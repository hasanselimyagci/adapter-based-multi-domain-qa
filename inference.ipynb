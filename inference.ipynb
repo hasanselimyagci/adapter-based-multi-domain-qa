{
  "nbformat": 4,
  "nbformat_minor": 0,
  "metadata": {
    "colab": {
      "provenance": []
    },
    "kernelspec": {
      "name": "python3",
      "display_name": "Python 3"
    },
    "language_info": {
      "name": "python"
    }
  },
  "cells": [
    {
      "cell_type": "code",
      "execution_count": null,
      "metadata": {
        "id": "zSwYFteH7687"
      },
      "outputs": [],
      "source": [
        "%%capture\n",
        "!pip install adapters datasets"
      ]
    },
    {
      "cell_type": "code",
      "source": [
        "import torch\n",
        "from huggingface_hub import login\n",
        "from tqdm import tqdm\n",
        "from datasets import load_dataset\n",
        "from transformers import set_seed, AutoModelForCausalLM, AutoTokenizer, pipeline\n",
        "from adapters import init\n",
        "from adapters.composition import Stack"
      ],
      "metadata": {
        "id": "JWAo8pf_8C2t"
      },
      "execution_count": null,
      "outputs": []
    },
    {
      "cell_type": "code",
      "source": [
        "SEED = 42\n",
        "modelpath = \"gpt2-medium\"\n",
        "domain_adapter = \"hf_path_to_trained_DA\"\n",
        "task_adapter = \"hf_path_to_trained_TA\"\n",
        "HF_KEY = \"hf_key\"\n",
        "\n",
        "# generation params\n",
        "temperature = 0.1\n",
        "rp = 1.03\n",
        "max_new_tokens = 100\n",
        "\n",
        "set_seed(SEED)\n",
        "torch.manual_seed(SEED)\n",
        "DEVICE = torch.device(\"cuda\") if torch.cuda.is_available() else torch.device(\"cpu\")\n",
        "login(HF_KEY)\n",
        "\n",
        "tokenizer = AutoTokenizer.from_pretrained(modelpath)\n",
        "tokenizer.pad_token = tokenizer.eos_token\n",
        "model = AutoModelForCausalLM.from_pretrained(modelpath).to(DEVICE)\n",
        "init(model)\n",
        "\n",
        "model.load_adapter(domain_adapter, load_as=\"domain\", with_head=False)\n",
        "model.load_adaptert(task_adapter, load_as=\"task\", with_head=True)\n",
        "model.active_adapters = Stack(\"domain\",\"task\")\n",
        "model.adapter_to(DEVICE)\n",
        "# print(model.adapter_summary())\n",
        "\n",
        "def generate_answer(text: str):\n",
        "  encoding = tokenizer('Question: ' + text + \"Answer: \", return_tensors=\"pt\").to(device)\n",
        "  input_ids = encoding.input_ids\n",
        "\n",
        "  model.eval()\n",
        "  with torch.inference_mode():\n",
        "    outputs = model.generate(input_ids, max_new_tokens=max_new_tokens, do_sample=True, temperature=temperature, repetition_penalty= rp)\n",
        "  return tokenizer.decode(outputs[0], skip_special_tokens=True)"
      ],
      "metadata": {
        "id": "-pZNSKs_8GAC"
      },
      "execution_count": null,
      "outputs": []
    },
    {
      "cell_type": "code",
      "source": [
        "generate_answer(\"What is adapter fine-tuning?\")"
      ],
      "metadata": {
        "id": "onHGsJRe8Q52"
      },
      "execution_count": null,
      "outputs": []
    }
  ]
}